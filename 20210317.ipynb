{
  "nbformat": 4,
  "nbformat_minor": 0,
  "metadata": {
    "colab": {
      "name": "20210317.ipynb",
      "provenance": [],
      "authorship_tag": "ABX9TyPAe8BHMWUXrLfTzi9ab47x",
      "include_colab_link": true
    },
    "kernelspec": {
      "name": "python3",
      "display_name": "Python 3"
    }
  },
  "cells": [
    {
      "cell_type": "markdown",
      "metadata": {
        "id": "view-in-github",
        "colab_type": "text"
      },
      "source": [
        "<a href=\"https://colab.research.google.com/github/2018130864-KwonHaYeon/class2021Spring/blob/main/20210317.ipynb\" target=\"_parent\"><img src=\"https://colab.research.google.com/assets/colab-badge.svg\" alt=\"Open In Colab\"/></a>"
      ]
    },
    {
      "cell_type": "code",
      "metadata": {
        "colab": {
          "base_uri": "https://localhost:8080/"
        },
        "id": "l5r_baFduet7",
        "outputId": "e9c6e69b-5b23-4475-810f-bc41c31d4df2"
      },
      "source": [
        "# 구구단 나열\r\n",
        "for i in range(1,10):\r\n",
        "    for j in range(1, 10):\r\n",
        "        print(i*j)"
      ],
      "execution_count": 2,
      "outputs": [
        {
          "output_type": "stream",
          "text": [
            "1\n",
            "2\n",
            "3\n",
            "4\n",
            "5\n",
            "6\n",
            "7\n",
            "8\n",
            "9\n",
            "2\n",
            "4\n",
            "6\n",
            "8\n",
            "10\n",
            "12\n",
            "14\n",
            "16\n",
            "18\n",
            "3\n",
            "6\n",
            "9\n",
            "12\n",
            "15\n",
            "18\n",
            "21\n",
            "24\n",
            "27\n",
            "4\n",
            "8\n",
            "12\n",
            "16\n",
            "20\n",
            "24\n",
            "28\n",
            "32\n",
            "36\n",
            "5\n",
            "10\n",
            "15\n",
            "20\n",
            "25\n",
            "30\n",
            "35\n",
            "40\n",
            "45\n",
            "6\n",
            "12\n",
            "18\n",
            "24\n",
            "30\n",
            "36\n",
            "42\n",
            "48\n",
            "54\n",
            "7\n",
            "14\n",
            "21\n",
            "28\n",
            "35\n",
            "42\n",
            "49\n",
            "56\n",
            "63\n",
            "8\n",
            "16\n",
            "24\n",
            "32\n",
            "40\n",
            "48\n",
            "56\n",
            "64\n",
            "72\n",
            "9\n",
            "18\n",
            "27\n",
            "36\n",
            "45\n",
            "54\n",
            "63\n",
            "72\n",
            "81\n"
          ],
          "name": "stdout"
        }
      ]
    },
    {
      "cell_type": "code",
      "metadata": {
        "colab": {
          "base_uri": "https://localhost:8080/"
        },
        "id": "m6bwurPXuxfS",
        "outputId": "78886bfb-5d33-422c-95fd-7ceb27dd2b40"
      },
      "source": [
        "for i in range(3, 10):\r\n",
        "    for j in range(1,3):\r\n",
        "        print(i/j)"
      ],
      "execution_count": 3,
      "outputs": [
        {
          "output_type": "stream",
          "text": [
            "3.0\n",
            "1.5\n",
            "4.0\n",
            "2.0\n",
            "5.0\n",
            "2.5\n",
            "6.0\n",
            "3.0\n",
            "7.0\n",
            "3.5\n",
            "8.0\n",
            "4.0\n",
            "9.0\n",
            "4.5\n"
          ],
          "name": "stdout"
        }
      ]
    },
    {
      "cell_type": "code",
      "metadata": {
        "colab": {
          "base_uri": "https://localhost:8080/"
        },
        "id": "RuiQ84jnu91v",
        "outputId": "fa861dfd-a2df-465a-f0c2-af94666def80"
      },
      "source": [
        "a = ['Korea', 'Yonsei', 'Seoul', 'Hanyang']\r\n",
        "b = [i for i in a if len(i) >= 6]\r\n",
        "b"
      ],
      "execution_count": 4,
      "outputs": [
        {
          "output_type": "execute_result",
          "data": {
            "text/plain": [
              "['Yonsei', 'Hanyang']"
            ]
          },
          "metadata": {
            "tags": []
          },
          "execution_count": 4
        }
      ]
    },
    {
      "cell_type": "code",
      "metadata": {
        "colab": {
          "base_uri": "https://localhost:8080/",
          "height": 136
        },
        "id": "q3s2KSYRvQDl",
        "outputId": "d858bdd4-6279-4e8c-e86e-33f3f851aacc"
      },
      "source": [
        "a = [1,2,3,4,5,6,7,8,9,10]\r\n",
        "b = [i for i in a if len(i) = 1]\r\n",
        "b"
      ],
      "execution_count": 6,
      "outputs": [
        {
          "output_type": "error",
          "ename": "SyntaxError",
          "evalue": "ignored",
          "traceback": [
            "\u001b[0;36m  File \u001b[0;32m\"<ipython-input-6-3c508f9cd09d>\"\u001b[0;36m, line \u001b[0;32m2\u001b[0m\n\u001b[0;31m    b = [i for i in a if len(i) = 1]\u001b[0m\n\u001b[0m                                ^\u001b[0m\n\u001b[0;31mSyntaxError\u001b[0m\u001b[0;31m:\u001b[0m invalid syntax\n"
          ]
        }
      ]
    },
    {
      "cell_type": "code",
      "metadata": {
        "colab": {
          "base_uri": "https://localhost:8080/"
        },
        "id": "I8Ki1etyvjJS",
        "outputId": "f185a1d0-4d9c-4605-a2a0-0d102538bf7a"
      },
      "source": [
        "a = [1,2,3,4,5,6,7,8,9,10]\r\n",
        "b= [i for i in a if i <=5]\r\n",
        "b"
      ],
      "execution_count": 9,
      "outputs": [
        {
          "output_type": "execute_result",
          "data": {
            "text/plain": [
              "[1, 2, 3, 4, 5]"
            ]
          },
          "metadata": {
            "tags": []
          },
          "execution_count": 9
        }
      ]
    },
    {
      "cell_type": "code",
      "metadata": {
        "colab": {
          "base_uri": "https://localhost:8080/"
        },
        "id": "d4TIJH5rvpQe",
        "outputId": "db7632e7-e6bc-4cca-d91b-6288ddfb9330"
      },
      "source": [
        "a = ['aaaaa', 'bbbb', 'ccc', 'dd']\r\n",
        "for i in range(len(a)):\r\n",
        "    print(a[i])"
      ],
      "execution_count": 16,
      "outputs": [
        {
          "output_type": "stream",
          "text": [
            "aaaaa\n",
            "bbbb\n",
            "ccc\n",
            "dd\n"
          ],
          "name": "stdout"
        }
      ]
    }
  ]
}