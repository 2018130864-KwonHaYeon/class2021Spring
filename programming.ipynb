{
  "nbformat": 4,
  "nbformat_minor": 0,
  "metadata": {
    "colab": {
      "name": "programming",
      "provenance": [],
      "authorship_tag": "ABX9TyNSkJTZVRUpZu5xzib3S2Ug",
      "include_colab_link": true
    },
    "kernelspec": {
      "name": "python3",
      "display_name": "Python 3"
    }
  },
  "cells": [
    {
      "cell_type": "markdown",
      "metadata": {
        "id": "view-in-github",
        "colab_type": "text"
      },
      "source": [
        "<a href=\"https://colab.research.google.com/github/2018130864-KwonHaYeon/class2021Spring/blob/main/programming.ipynb\" target=\"_parent\"><img src=\"https://colab.research.google.com/assets/colab-badge.svg\" alt=\"Open In Colab\"/></a>"
      ]
    },
    {
      "cell_type": "markdown",
      "metadata": {
        "id": "EYIRbaLHo4m1"
      },
      "source": [
        "# 20210310 수업 내용 Notetaking"
      ]
    },
    {
      "cell_type": "markdown",
      "metadata": {
        "id": "9MAGkg6noy6s"
      },
      "source": [
        "### programming language: 인간 언어와 마찬가지로 단어+문법으로 이루어져 있다."
      ]
    },
    {
      "cell_type": "markdown",
      "metadata": {
        "id": "V8njonHspM2W"
      },
      "source": [
        "* 컴퓨터 언어에서 단어 = 변수와 내용\r\n",
        "\r\n"
      ]
    },
    {
      "cell_type": "markdown",
      "metadata": {
        "id": "II4axxaZp_eb"
      },
      "source": [
        "a = 1 일 때, a는 variable, = 은 오른쪽 내용을 왼쪽에 assign 한다는 뜻, 1 은 내용"
      ]
    },
    {
      "cell_type": "markdown",
      "metadata": {
        "id": "nD8XGGiKrBrR"
      },
      "source": [
        "컴퓨터 언어에서 equal sign은 같다는 것이 아니라 오른쪽 내용을 왼쪽에 assign한다는 것"
      ]
    },
    {
      "cell_type": "markdown",
      "metadata": {
        "id": "eFr8tf76pT-E"
      },
      "source": [
        "* 컴퓨터 언어에서 문법 = 제어문\r\n",
        "\r\n",
        "제어문의 종류\r\n",
        "\r\n",
        "\r\n",
        "1.   반복 (for)\r\n",
        "2.   조건 (if)\r\n",
        "\r\n"
      ]
    },
    {
      "cell_type": "markdown",
      "metadata": {
        "id": "KyiGMDv4pT28"
      },
      "source": [
        "* 함수: 입출력 관계; input -> f (변화) -> output"
      ]
    },
    {
      "cell_type": "markdown",
      "metadata": {
        "id": "dU4cDMDwq6NS"
      },
      "source": [
        "* y= f(x) = ax+b --> x는 입력, y는 출력"
      ]
    },
    {
      "cell_type": "markdown",
      "metadata": {
        "id": "K2Ajf_9VpTqs"
      },
      "source": [
        "day 1 a=1, b=2 a+b --> add(1,2)\r\n",
        "day 2 a=5, b=6 a+b --> add(5,6)\r\n",
        "day 3 a=7, b=3 a+b --> add(7,3)"
      ]
    },
    {
      "cell_type": "markdown",
      "metadata": {
        "id": "kD5z5r5vpV1I"
      },
      "source": [
        "--> function add(a,b)  / c= a+b\r\n",
        "함수를 통해 반복적인 작업을 단순화 할 수 있다."
      ]
    },
    {
      "cell_type": "markdown",
      "metadata": {
        "id": "dyhxidEyrJWV"
      },
      "source": [
        ""
      ]
    }
  ]
}