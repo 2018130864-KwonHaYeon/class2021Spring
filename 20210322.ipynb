{
  "nbformat": 4,
  "nbformat_minor": 0,
  "metadata": {
    "colab": {
      "name": "20210322.ipynb",
      "provenance": [],
      "authorship_tag": "ABX9TyM7Z6a7tMwZTbESIcJIEFY+",
      "include_colab_link": true
    },
    "kernelspec": {
      "name": "python3",
      "display_name": "Python 3"
    },
    "language_info": {
      "name": "python"
    }
  },
  "cells": [
    {
      "cell_type": "markdown",
      "metadata": {
        "id": "view-in-github",
        "colab_type": "text"
      },
      "source": [
        "<a href=\"https://colab.research.google.com/github/2018130864-KwonHaYeon/class2021Spring/blob/main/20210322.ipynb\" target=\"_parent\"><img src=\"https://colab.research.google.com/assets/colab-badge.svg\" alt=\"Open In Colab\"/></a>"
      ]
    },
    {
      "cell_type": "code",
      "metadata": {
        "id": "7iSBedzxUMW-"
      },
      "source": [
        "def add(a,b):\n",
        "  return a+b\n",
        "\n",
        "def subtract(a,b):\n",
        "  return a-b\n",
        "\n",
        "def multiply(a,b):\n",
        "  return a*b\n",
        "\n",
        "def divide (a,b):\n",
        "  return a/b"
      ],
      "execution_count": 1,
      "outputs": []
    },
    {
      "cell_type": "code",
      "metadata": {
        "colab": {
          "base_uri": "https://localhost:8080/"
        },
        "id": "Q4gT-j-GUUqI",
        "outputId": "1e0abaad-0db5-444b-981f-d97277a691c2"
      },
      "source": [
        "c = add(1,2); print(c)\n",
        "c = subtract(1,2); print(c)\n",
        "c = multiply(1,2); print(c)\n",
        "c = divide(1,2); print(c)"
      ],
      "execution_count": 2,
      "outputs": [
        {
          "output_type": "stream",
          "text": [
            "3\n",
            "-1\n",
            "2\n",
            "0.5\n"
          ],
          "name": "stdout"
        }
      ]
    },
    {
      "cell_type": "markdown",
      "metadata": {
        "id": "taVikQePUflx"
      },
      "source": [
        "- 함수라고 이야기 하는 순간, 입출력을 반드시 assume 한다. (x는 입력, y는 출력)\n",
        "- 입력 --> 변형 --> 출력\n",
        "- 계산을 빠르게 하기 위해서"
      ]
    },
    {
      "cell_type": "code",
      "metadata": {
        "id": "cSkWmozzVRKh"
      },
      "source": [
        "def add():\n",
        "  a=1"
      ],
      "execution_count": 7,
      "outputs": []
    },
    {
      "cell_type": "code",
      "metadata": {
        "colab": {
          "base_uri": "https://localhost:8080/"
        },
        "id": "aYzVpywIWB8w",
        "outputId": "8818d863-fa60-4c89-977d-f714ebc0a348"
      },
      "source": [
        "add(); print(c)"
      ],
      "execution_count": 9,
      "outputs": [
        {
          "output_type": "stream",
          "text": [
            "None\n"
          ],
          "name": "stdout"
        }
      ]
    },
    {
      "cell_type": "code",
      "metadata": {
        "id": "VDmGINSAWSne"
      },
      "source": [
        "def add(a,b):\n",
        "  return a,b"
      ],
      "execution_count": 10,
      "outputs": []
    },
    {
      "cell_type": "code",
      "metadata": {
        "colab": {
          "base_uri": "https://localhost:8080/"
        },
        "id": "iTcQjVSFWffj",
        "outputId": "577f7b1c-f02e-4ab0-c433-91e6b591cec6"
      },
      "source": [
        "result = add(1,2); print(result)\n",
        "type(result)"
      ],
      "execution_count": 14,
      "outputs": [
        {
          "output_type": "stream",
          "text": [
            "(1, 2)\n"
          ],
          "name": "stdout"
        },
        {
          "output_type": "execute_result",
          "data": {
            "text/plain": [
              "tuple"
            ]
          },
          "metadata": {
            "tags": []
          },
          "execution_count": 14
        }
      ]
    },
    {
      "cell_type": "markdown",
      "metadata": {
        "id": "e2vmslI7WpUk"
      },
      "source": [
        "- 함수에서 입력과 출력 모두가 여러 개가 될 수 있다."
      ]
    },
    {
      "cell_type": "code",
      "metadata": {
        "colab": {
          "base_uri": "https://localhost:8080/"
        },
        "id": "v51jHkFGWhPs",
        "outputId": "51b6f445-69c0-4988-9dda-9af7b881659d"
      },
      "source": [
        "def ha(a,b,c,d):\n",
        "  return a*b*c*d\n",
        "\n",
        "result = ha(2,3,4,5); print(result)"
      ],
      "execution_count": 15,
      "outputs": [
        {
          "output_type": "stream",
          "text": [
            "120\n"
          ],
          "name": "stdout"
        }
      ]
    },
    {
      "cell_type": "code",
      "metadata": {
        "colab": {
          "base_uri": "https://localhost:8080/"
        },
        "id": "EPnN8kZEWtf2",
        "outputId": "6787ce76-7041-4fd1-aeea-27958d1b97b4"
      },
      "source": [
        "def add2(a,b):\n",
        "  return a+b\n",
        "\n",
        "result2 = add2(\"1\",\"1\"); print(result2)"
      ],
      "execution_count": 19,
      "outputs": [
        {
          "output_type": "stream",
          "text": [
            "11\n"
          ],
          "name": "stdout"
        }
      ]
    },
    {
      "cell_type": "code",
      "metadata": {
        "colab": {
          "base_uri": "https://localhost:8080/"
        },
        "id": "Uf7IFCYZXUIJ",
        "outputId": "9135f4f0-14dc-4820-afec-9e7b53c7d4eb"
      },
      "source": [
        "def func2(x, a,b,c):\n",
        "  return a* (x**2) + b * x + c\n",
        "\n",
        "func2result = func2(3,4,5,6); print(func2result)"
      ],
      "execution_count": 24,
      "outputs": [
        {
          "output_type": "stream",
          "text": [
            "57\n"
          ],
          "name": "stdout"
        }
      ]
    },
    {
      "cell_type": "code",
      "metadata": {
        "id": "ZtfznjujXx84"
      },
      "source": [
        ""
      ],
      "execution_count": null,
      "outputs": []
    }
  ]
}