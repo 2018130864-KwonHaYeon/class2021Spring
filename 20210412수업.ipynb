{
  "nbformat": 4,
  "nbformat_minor": 0,
  "metadata": {
    "colab": {
      "name": "20210412 수업.ipynb",
      "provenance": [],
      "authorship_tag": "ABX9TyNTsZzB82r+2+JJ4A6Kw2sQ",
      "include_colab_link": true
    },
    "kernelspec": {
      "name": "python3",
      "display_name": "Python 3"
    },
    "language_info": {
      "name": "python"
    }
  },
  "cells": [
    {
      "cell_type": "markdown",
      "metadata": {
        "id": "view-in-github",
        "colab_type": "text"
      },
      "source": [
        "<a href=\"https://colab.research.google.com/github/2018130864-KwonHaYeon/class2021Spring/blob/main/20210412%EC%88%98%EC%97%85.ipynb\" target=\"_parent\"><img src=\"https://colab.research.google.com/assets/colab-badge.svg\" alt=\"Open In Colab\"/></a>"
      ]
    },
    {
      "cell_type": "markdown",
      "metadata": {
        "id": "XmnoTRtxeJSC"
      },
      "source": [
        "# Variables"
      ]
    },
    {
      "cell_type": "markdown",
      "metadata": {
        "id": "Cc0iiuMreM1h"
      },
      "source": [
        "- 변수, 함수\n",
        "- type, print 또한 python에 내장된 함수이다."
      ]
    },
    {
      "cell_type": "markdown",
      "metadata": {
        "id": "fzGyyZA1e3kQ"
      },
      "source": [
        "- a[2] - 3번째 항목\n",
        "- 리스트가 중요함\n",
        "- 리스트 안에 있는 항목에 대한 접근이 중요"
      ]
    },
    {
      "cell_type": "code",
      "metadata": {
        "colab": {
          "base_uri": "https://localhost:8080/"
        },
        "id": "Q7ur7CfdeIzg",
        "outputId": "26b80c99-cb7e-4178-ec81-160eb5b477a1"
      },
      "source": [
        "a = [1, '2', [3, '41']]\n",
        "print(a[2][1][1])"
      ],
      "execution_count": 3,
      "outputs": [
        {
          "output_type": "stream",
          "text": [
            "1\n"
          ],
          "name": "stdout"
        }
      ]
    },
    {
      "cell_type": "markdown",
      "metadata": {
        "id": "xf85buLvfyBy"
      },
      "source": [
        "- dict를 만드는 법, dict 안의 항목에 접근하는 법"
      ]
    },
    {
      "cell_type": "markdown",
      "metadata": {
        "id": "k8m8vGaXgXKE"
      },
      "source": [
        "# String"
      ]
    },
    {
      "cell_type": "markdown",
      "metadata": {
        "id": "Ck6aufRehH7Y"
      },
      "source": [
        "- 줄바꿈, rindex\n",
        "- split 함수 (tokenization, 단어들을 token으로 끊어주는 것)\n"
      ]
    },
    {
      "cell_type": "markdown",
      "metadata": {
        "id": "vow0Xzflh3Ha"
      },
      "source": [
        "# Function"
      ]
    },
    {
      "cell_type": "markdown",
      "metadata": {
        "id": "L04tAdJCh40A"
      },
      "source": [
        "- def와 함수명, 입력 변수를 적는다. colon으로 막아주고, return으로 함숫값을 출력한다."
      ]
    },
    {
      "cell_type": "markdown",
      "metadata": {
        "id": "0JWNELfZiXRf"
      },
      "source": [
        "# Syntax"
      ]
    },
    {
      "cell_type": "markdown",
      "metadata": {
        "id": "b-kMmXq3iaFG"
      },
      "source": [
        "- for\n",
        "- if / else (반드시 ==를 써야 한다.)\n",
        "- for의 이중중첩\n",
        "- for 안의 if문\n",
        "- list 안의 for을 녹여서 list를 만드는 것 (매우 중요)\n",
        "- for loop에서 in 뒤에 list가 나올 수도 있고, range를 쓸 수도 있다.\n",
        "- print가 몇번이 되는가? (outer loop 2 * inner loop 2 = 4번 실행)"
      ]
    },
    {
      "cell_type": "markdown",
      "metadata": {
        "id": "pQy0RID6kANI"
      },
      "source": [
        "# Jupyter Notebook"
      ]
    },
    {
      "cell_type": "markdown",
      "metadata": {
        "id": "up3hyPDCkDfn"
      },
      "source": [
        "- 웹에서 프로그래밍 진행할 수 있는 환경을 Jupyter notebook이라 한다."
      ]
    },
    {
      "cell_type": "markdown",
      "metadata": {
        "id": "JVjkdaQqpK9t"
      },
      "source": [
        "# Digital <--> Analog\n",
        "- Analog: 값이 continuous, 무한한 숫자 (ex. 체온, 기온)\n",
        "- Digital: 값이 discrete, 몇 개의 limited number로 바꿈\n",
        "\n",
        "\n",
        "- Discretization(= Digitizing)\n",
        "- sampling rate(= Sampling frequency): analog의 continuous한 값이 digital화되는 타협점 (얼마나 빽빽하게 점을 채울지, 1초에 점들이 몇 개나 있는가?)\n",
        "- pitch의 Hz (sine 곡선에서 1초에 몇번 반복이 되는가?)\n",
        "- sampling frequency의 Hz (1초에 몇번의 sample, 점이 있는가?)\n",
        "-> **'1초에 n번'이라는 개념이 적용되면 Hz를 쓸 수 있다.**\n",
        "-> 44100 Hz라는 것은, 1초에 44100개의 점이 있다는 뜻\n",
        "-> '44100'의 의미: 가청 주파수 20000 Hz를 Digital화하려면 2만큼을 곱해야 표현이 되기 때문이다. (cd 음질)\n",
        "-> 사람이 귀로 분간할 수 있는 가청 주파수 (20~20000 Hz), 그를 넘어서면 초음파\n",
        "\n",
        "\n",
        "- praat에서 점 부분 zoom in해보면 꺾인 부분이 보이는데, 그 부분이 점을 의미함\n",
        "\n",
        "\n",
        "- F0(pitch), F1, F2, F3(Formants), sampling frequency **모두 Hz로 나타낼 수 있는데, 이것이 어떤 다른 것을 의미하는가?**\n",
        "-> pitch & formant: 1초에 몇번 왔다갔다 하는가?\n",
        "-> sampling frquency: 1초에 몇 개의 sample이 있는가?"
      ]
    }
  ]
}