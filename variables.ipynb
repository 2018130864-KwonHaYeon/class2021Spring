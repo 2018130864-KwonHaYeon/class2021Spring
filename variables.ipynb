{
  "nbformat": 4,
  "nbformat_minor": 0,
  "metadata": {
    "colab": {
      "name": "variables.ipynb",
      "provenance": [],
      "authorship_tag": "ABX9TyO/oEHfnSOu3g0HS/uDBwSd",
      "include_colab_link": true
    },
    "kernelspec": {
      "name": "python3",
      "display_name": "Python 3"
    }
  },
  "cells": [
    {
      "cell_type": "markdown",
      "metadata": {
        "id": "view-in-github",
        "colab_type": "text"
      },
      "source": [
        "<a href=\"https://colab.research.google.com/github/2018130864-KwonHaYeon/class2021Spring/blob/main/variables.ipynb\" target=\"_parent\"><img src=\"https://colab.research.google.com/assets/colab-badge.svg\" alt=\"Open In Colab\"/></a>"
      ]
    },
    {
      "cell_type": "code",
      "metadata": {
        "id": "goAyoU7vRheI",
        "outputId": "c32cc600-3c42-4dc2-b77d-84782e8fe65a"
      },
      "source": [
        "a = 1; print(type(a))"
      ],
      "execution_count": null,
      "outputs": [
        {
          "output_type": "stream",
          "text": [
            "<class 'int'>\n"
          ],
          "name": "stdout"
        }
      ]
    },
    {
      "cell_type": "code",
      "metadata": {
        "colab": {
          "base_uri": "https://localhost:8080/"
        },
        "id": "XyFglHMzQ-88",
        "outputId": "536ad30a-33f7-470a-cb45-f4b5f9e5471f"
      },
      "source": [
        "a=1; a\r\n",
        "b=2; b\r\n",
        "c=3; c"
      ],
      "execution_count": 9,
      "outputs": [
        {
          "output_type": "execute_result",
          "data": {
            "text/plain": [
              "3"
            ]
          },
          "metadata": {
            "tags": []
          },
          "execution_count": 9
        }
      ]
    },
    {
      "cell_type": "markdown",
      "metadata": {
        "id": "NX3vOO7iRiRe"
      },
      "source": [
        "* print를 안 쓰면 마지막 것만 나온다.\r\n",
        "\r\n"
      ]
    },
    {
      "cell_type": "code",
      "metadata": {
        "colab": {
          "base_uri": "https://localhost:8080/"
        },
        "id": "YTmB3p7kRpQ2",
        "outputId": "04013648-c828-418f-d3a4-eea5099866aa"
      },
      "source": [
        "a=1; print(type(a))\r\n",
        "b=2.22; print(type(b))\r\n",
        "c=3; print(c)"
      ],
      "execution_count": 11,
      "outputs": [
        {
          "output_type": "stream",
          "text": [
            "<class 'int'>\n",
            "<class 'float'>\n",
            "3\n"
          ],
          "name": "stdout"
        }
      ]
    },
    {
      "cell_type": "code",
      "metadata": {
        "id": "txxnoqJuRheJ",
        "colab": {
          "base_uri": "https://localhost:8080/"
        },
        "outputId": "8a484c44-a24e-4fde-c8c7-dbca9c8a0383"
      },
      "source": [
        "a = 1; a = float(a); print(type(a)); print(a)"
      ],
      "execution_count": 12,
      "outputs": [
        {
          "output_type": "stream",
          "text": [
            "<class 'float'>\n",
            "1.0\n"
          ],
          "name": "stdout"
        }
      ]
    },
    {
      "cell_type": "code",
      "metadata": {
        "id": "By9UCBctRheK",
        "colab": {
          "base_uri": "https://localhost:8080/"
        },
        "outputId": "b4dd5c6c-06c6-47a8-b1bd-ee1563942a28"
      },
      "source": [
        "a = 1.2; a = int(a); print(type(a)); print(a)"
      ],
      "execution_count": 13,
      "outputs": [
        {
          "output_type": "stream",
          "text": [
            "<class 'int'>\n",
            "1\n"
          ],
          "name": "stdout"
        }
      ]
    },
    {
      "cell_type": "code",
      "metadata": {
        "id": "SyP0PB86RheL",
        "outputId": "e10d274f-e7fd-4cdd-a822-847fb83560ec"
      },
      "source": [
        "a = '123'; print(type(a)); print(a[1])"
      ],
      "execution_count": null,
      "outputs": [
        {
          "output_type": "stream",
          "text": [
            "<class 'str'>\n",
            "2\n"
          ],
          "name": "stdout"
        }
      ]
    },
    {
      "cell_type": "markdown",
      "metadata": {
        "id": "dEw1F90_S1RF"
      },
      "source": [
        "* quotation을 해서 더이상 숫자가 아님 (single quote, double quote 똑같음)"
      ]
    },
    {
      "cell_type": "code",
      "metadata": {
        "id": "byDy9oFERheL",
        "outputId": "bfc3fed4-2c45-4830-a723-0981b1b02914"
      },
      "source": [
        "a = '123'; a = list(a); print(type(a)); print(a); print(a[2])"
      ],
      "execution_count": null,
      "outputs": [
        {
          "output_type": "stream",
          "text": [
            "<class 'list'>\n",
            "['1', '2', '3']\n",
            "3\n"
          ],
          "name": "stdout"
        }
      ]
    },
    {
      "cell_type": "markdown",
      "metadata": {
        "id": "PIsLDpHJTaZz"
      },
      "source": [
        "* a를 list 형태로 바꿔라."
      ]
    },
    {
      "cell_type": "code",
      "metadata": {
        "id": "EDUudqY0UCpy"
      },
      "source": [
        "a = [1, 'cde', 4]\r\n",
        "a = [1, 'cde', [1,3]]"
      ],
      "execution_count": 15,
      "outputs": []
    },
    {
      "cell_type": "markdown",
      "metadata": {
        "id": "7Zfzblo8UI_g"
      },
      "source": [
        "* list 안에는 어떤 형태가 들어와도 상관이 없다."
      ]
    },
    {
      "cell_type": "code",
      "metadata": {
        "id": "DfS-gknCRheL",
        "outputId": "0cf2a3dd-678f-47ab-b4d6-c62e43e428e5"
      },
      "source": [
        "a = [1,'2', [3, '4']]; print(type(a)); print(a[0]); print(a[1]); print(a[2])"
      ],
      "execution_count": null,
      "outputs": [
        {
          "output_type": "stream",
          "text": [
            "<class 'list'>\n",
            "1\n",
            "2\n",
            "[3, '4']\n"
          ],
          "name": "stdout"
        }
      ]
    },
    {
      "cell_type": "code",
      "metadata": {
        "id": "wuUZdEnyRheM",
        "outputId": "3f1479d8-f8d2-43b0-b33e-f54ac9e17f6d"
      },
      "source": [
        "a = (1,'2', [3, '4']); print(type(a)); print(a[0]); print(a[1]); print(a[2])"
      ],
      "execution_count": null,
      "outputs": [
        {
          "output_type": "stream",
          "text": [
            "<class 'tuple'>\n",
            "1\n",
            "2\n",
            "[3, '4']\n"
          ],
          "name": "stdout"
        }
      ]
    },
    {
      "cell_type": "code",
      "metadata": {
        "colab": {
          "base_uri": "https://localhost:8080/"
        },
        "id": "I1DjqGFhVyUZ",
        "outputId": "2f565452-c305-427e-bc8b-3c77eec609c2"
      },
      "source": [
        "a = [1,2,3]\r\n",
        "a[0] = -1\r\n",
        "a"
      ],
      "execution_count": 16,
      "outputs": [
        {
          "output_type": "execute_result",
          "data": {
            "text/plain": [
              "[-1, 2, 3]"
            ]
          },
          "metadata": {
            "tags": []
          },
          "execution_count": 16
        }
      ]
    },
    {
      "cell_type": "code",
      "metadata": {
        "colab": {
          "base_uri": "https://localhost:8080/",
          "height": 204
        },
        "id": "SlCqc7-eVzqH",
        "outputId": "fce6e2e0-51b2-452c-8abf-034788d4ea69"
      },
      "source": [
        "a = (1,2,3)\r\n",
        "a[0]= -1\r\n",
        "a"
      ],
      "execution_count": 17,
      "outputs": [
        {
          "output_type": "error",
          "ename": "TypeError",
          "evalue": "ignored",
          "traceback": [
            "\u001b[0;31m---------------------------------------------------------------------------\u001b[0m",
            "\u001b[0;31mTypeError\u001b[0m                                 Traceback (most recent call last)",
            "\u001b[0;32m<ipython-input-17-028af546dbc9>\u001b[0m in \u001b[0;36m<module>\u001b[0;34m()\u001b[0m\n\u001b[1;32m      1\u001b[0m \u001b[0ma\u001b[0m \u001b[0;34m=\u001b[0m \u001b[0;34m(\u001b[0m\u001b[0;36m1\u001b[0m\u001b[0;34m,\u001b[0m\u001b[0;36m2\u001b[0m\u001b[0;34m,\u001b[0m\u001b[0;36m3\u001b[0m\u001b[0;34m)\u001b[0m\u001b[0;34m\u001b[0m\u001b[0;34m\u001b[0m\u001b[0m\n\u001b[0;32m----> 2\u001b[0;31m \u001b[0ma\u001b[0m\u001b[0;34m[\u001b[0m\u001b[0;36m0\u001b[0m\u001b[0;34m]\u001b[0m\u001b[0;34m=\u001b[0m \u001b[0;34m-\u001b[0m\u001b[0;36m1\u001b[0m\u001b[0;34m\u001b[0m\u001b[0;34m\u001b[0m\u001b[0m\n\u001b[0m\u001b[1;32m      3\u001b[0m \u001b[0ma\u001b[0m\u001b[0;34m\u001b[0m\u001b[0;34m\u001b[0m\u001b[0m\n",
            "\u001b[0;31mTypeError\u001b[0m: 'tuple' object does not support item assignment"
          ]
        }
      ]
    },
    {
      "cell_type": "markdown",
      "metadata": {
        "id": "u3uXPzNnV2qQ"
      },
      "source": [
        "* tuple은 바꿀 수가 없다. 데이터 안전성 측면에서 낫다."
      ]
    },
    {
      "cell_type": "code",
      "metadata": {
        "id": "2sivfloGRheM",
        "colab": {
          "base_uri": "https://localhost:8080/"
        },
        "outputId": "31630580-d878-4836-bed5-76ede730906a"
      },
      "source": [
        "a = {'a': 'apple', 'b': 'orange', 'c':2014}\n",
        "a['c']=2021\n",
        "a"
      ],
      "execution_count": 18,
      "outputs": [
        {
          "output_type": "execute_result",
          "data": {
            "text/plain": [
              "{'a': 'apple', 'b': 'orange', 'c': 2021}"
            ]
          },
          "metadata": {
            "tags": []
          },
          "execution_count": 18
        }
      ]
    },
    {
      "cell_type": "code",
      "metadata": {
        "colab": {
          "base_uri": "https://localhost:8080/"
        },
        "id": "vrrLv5QzXLdE",
        "outputId": "7602e252-461b-4394-b518-c45358977768"
      },
      "source": [
        "a = {'a': 'apple', 'b': 'orange', 'c':2014}\r\n",
        "type(a)"
      ],
      "execution_count": 19,
      "outputs": [
        {
          "output_type": "execute_result",
          "data": {
            "text/plain": [
              "dict"
            ]
          },
          "metadata": {
            "tags": []
          },
          "execution_count": 19
        }
      ]
    },
    {
      "cell_type": "markdown",
      "metadata": {
        "id": "qNRTmT5KWafl"
      },
      "source": [
        "* dictionary는 a[0] 이런 식이 아니라, a[\"b\"] 이런 식으로 표제어를 통해 access한다.\r\n",
        "* a[1]은 dictionary에서 안 된다."
      ]
    },
    {
      "cell_type": "code",
      "metadata": {
        "id": "A7teRXuCRheN",
        "outputId": "79a99306-d858-4682-a61e-a21c74bd903d"
      },
      "source": [
        "a=[(1,2,3), (3,8,0)]\n",
        "print(type(a))\n",
        "a"
      ],
      "execution_count": null,
      "outputs": [
        {
          "output_type": "stream",
          "text": [
            "<class 'list'>\n"
          ],
          "name": "stdout"
        },
        {
          "output_type": "execute_result",
          "data": {
            "text/plain": [
              "[(1, 2, 3), (3, 8, 0)]"
            ]
          },
          "metadata": {
            "tags": []
          },
          "execution_count": 27
        }
      ]
    }
  ]
}