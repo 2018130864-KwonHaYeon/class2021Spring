{
  "nbformat": 4,
  "nbformat_minor": 0,
  "metadata": {
    "colab": {
      "name": "20210322.ipynb",
      "provenance": [],
      "authorship_tag": "ABX9TyMvzF9AWCqDo1w+lbef/e6J",
      "include_colab_link": true
    },
    "kernelspec": {
      "name": "python3",
      "display_name": "Python 3"
    },
    "language_info": {
      "name": "python"
    }
  },
  "cells": [
    {
      "cell_type": "markdown",
      "metadata": {
        "id": "view-in-github",
        "colab_type": "text"
      },
      "source": [
        "<a href=\"https://colab.research.google.com/github/2018130864-KwonHaYeon/class2021Spring/blob/main/20210322.ipynb\" target=\"_parent\"><img src=\"https://colab.research.google.com/assets/colab-badge.svg\" alt=\"Open In Colab\"/></a>"
      ]
    },
    {
      "cell_type": "code",
      "metadata": {
        "id": "7iSBedzxUMW-"
      },
      "source": [
        "def add(a,b):\n",
        "  return a+b\n",
        "\n",
        "def subtract(a,b):\n",
        "  return a-b\n",
        "\n",
        "def multiply(a,b):\n",
        "  return a*b\n",
        "\n",
        "def divide (a,b):\n",
        "  return a/b"
      ],
      "execution_count": 1,
      "outputs": []
    },
    {
      "cell_type": "code",
      "metadata": {
        "colab": {
          "base_uri": "https://localhost:8080/"
        },
        "id": "Q4gT-j-GUUqI",
        "outputId": "1e0abaad-0db5-444b-981f-d97277a691c2"
      },
      "source": [
        "c = add(1,2); print(c)\n",
        "c = subtract(1,2); print(c)\n",
        "c = multiply(1,2); print(c)\n",
        "c = divide(1,2); print(c)"
      ],
      "execution_count": 2,
      "outputs": [
        {
          "output_type": "stream",
          "text": [
            "3\n",
            "-1\n",
            "2\n",
            "0.5\n"
          ],
          "name": "stdout"
        }
      ]
    },
    {
      "cell_type": "markdown",
      "metadata": {
        "id": "taVikQePUflx"
      },
      "source": [
        "- 함수라고 이야기 하는 순간, 입출력을 반드시 assume 한다. (x는 입력, y는 출력)\n",
        "- 입력 --> 변형 --> 출력\n",
        "- 계산을 빠르게 하기 위해서"
      ]
    },
    {
      "cell_type": "code",
      "metadata": {
        "id": "cSkWmozzVRKh"
      },
      "source": [
        "def add():\n",
        "  a=1"
      ],
      "execution_count": 7,
      "outputs": []
    },
    {
      "cell_type": "code",
      "metadata": {
        "colab": {
          "base_uri": "https://localhost:8080/"
        },
        "id": "aYzVpywIWB8w",
        "outputId": "8818d863-fa60-4c89-977d-f714ebc0a348"
      },
      "source": [
        "add(); print(c)"
      ],
      "execution_count": 9,
      "outputs": [
        {
          "output_type": "stream",
          "text": [
            "None\n"
          ],
          "name": "stdout"
        }
      ]
    },
    {
      "cell_type": "code",
      "metadata": {
        "id": "VDmGINSAWSne"
      },
      "source": [
        "def add(a,b):\n",
        "  return a,b"
      ],
      "execution_count": 10,
      "outputs": []
    },
    {
      "cell_type": "code",
      "metadata": {
        "colab": {
          "base_uri": "https://localhost:8080/"
        },
        "id": "iTcQjVSFWffj",
        "outputId": "577f7b1c-f02e-4ab0-c433-91e6b591cec6"
      },
      "source": [
        "result = add(1,2); print(result)\n",
        "type(result)"
      ],
      "execution_count": 14,
      "outputs": [
        {
          "output_type": "stream",
          "text": [
            "(1, 2)\n"
          ],
          "name": "stdout"
        },
        {
          "output_type": "execute_result",
          "data": {
            "text/plain": [
              "tuple"
            ]
          },
          "metadata": {
            "tags": []
          },
          "execution_count": 14
        }
      ]
    },
    {
      "cell_type": "markdown",
      "metadata": {
        "id": "e2vmslI7WpUk"
      },
      "source": [
        "- 함수에서 입력과 출력 모두가 여러 개가 될 수 있다."
      ]
    },
    {
      "cell_type": "code",
      "metadata": {
        "colab": {
          "base_uri": "https://localhost:8080/"
        },
        "id": "v51jHkFGWhPs",
        "outputId": "51b6f445-69c0-4988-9dda-9af7b881659d"
      },
      "source": [
        "def ha(a,b,c,d):\n",
        "  return a*b*c*d\n",
        "\n",
        "result = ha(2,3,4,5); print(result)"
      ],
      "execution_count": 15,
      "outputs": [
        {
          "output_type": "stream",
          "text": [
            "120\n"
          ],
          "name": "stdout"
        }
      ]
    },
    {
      "cell_type": "code",
      "metadata": {
        "colab": {
          "base_uri": "https://localhost:8080/"
        },
        "id": "EPnN8kZEWtf2",
        "outputId": "6787ce76-7041-4fd1-aeea-27958d1b97b4"
      },
      "source": [
        "def add2(a,b):\n",
        "  return a+b\n",
        "\n",
        "result2 = add2(\"1\",\"1\"); print(result2)"
      ],
      "execution_count": 19,
      "outputs": [
        {
          "output_type": "stream",
          "text": [
            "11\n"
          ],
          "name": "stdout"
        }
      ]
    },
    {
      "cell_type": "code",
      "metadata": {
        "colab": {
          "base_uri": "https://localhost:8080/"
        },
        "id": "Uf7IFCYZXUIJ",
        "outputId": "9135f4f0-14dc-4820-afec-9e7b53c7d4eb"
      },
      "source": [
        "def func2(x, a,b,c):\n",
        "  return a* (x**2) + b * x + c\n",
        "\n",
        "func2result = func2(3,4,5,6); print(func2result)"
      ],
      "execution_count": 24,
      "outputs": [
        {
          "output_type": "stream",
          "text": [
            "57\n"
          ],
          "name": "stdout"
        }
      ]
    },
    {
      "cell_type": "code",
      "metadata": {
        "colab": {
          "base_uri": "https://localhost:8080/"
        },
        "id": "ZtfznjujXx84",
        "outputId": "45f42e71-995f-48dc-a781-3aaaad706a74"
      },
      "source": [
        "def func(x,a,b,c):\n",
        "  return a*(x**2)+ b*x + c\n",
        "funcresult = func(1,8,10,6); print(funcresult)"
      ],
      "execution_count": 26,
      "outputs": [
        {
          "output_type": "stream",
          "text": [
            "24\n"
          ],
          "name": "stdout"
        }
      ]
    },
    {
      "cell_type": "code",
      "metadata": {
        "id": "ApOKPWoUZ1ED"
      },
      "source": [
        "def func1(x,a,b,c):\n",
        "  y = a*x**2 + b*x +c\n",
        "  return y"
      ],
      "execution_count": 27,
      "outputs": []
    },
    {
      "cell_type": "code",
      "metadata": {
        "colab": {
          "base_uri": "https://localhost:8080/"
        },
        "id": "wjJJmEnvZ47m",
        "outputId": "3be607e0-dfc5-4e4d-ad65-ebe75fb676c3"
      },
      "source": [
        "func1(5,1,-2,3)"
      ],
      "execution_count": 29,
      "outputs": [
        {
          "output_type": "execute_result",
          "data": {
            "text/plain": [
              "18"
            ]
          },
          "metadata": {
            "tags": []
          },
          "execution_count": 29
        }
      ]
    },
    {
      "cell_type": "markdown",
      "metadata": {
        "id": "h8j5c_XOalTf"
      },
      "source": [
        "- 변수: 재료\n",
        "- 함수: 기계\n",
        "- class: 함수와 변수를 함께 module화 한 것 (Object Oriented Programming)"
      ]
    },
    {
      "cell_type": "code",
      "metadata": {
        "id": "StyG9lUlZ64O"
      },
      "source": [
        "class cal:\n",
        "  def __init__(self):\n",
        "    self.result = 0\n",
        "  def add(self, n):\n",
        "    self.result += n\n",
        "    return self.result"
      ],
      "execution_count": 30,
      "outputs": []
    },
    {
      "cell_type": "markdown",
      "metadata": {
        "id": "1ilQOLqhbjmc"
      },
      "source": [
        "- self.result에서 result가 변수이다.\n",
        "- self.result에서 self는 class가 만들어내는 자기의 변수이다."
      ]
    },
    {
      "cell_type": "code",
      "metadata": {
        "colab": {
          "base_uri": "https://localhost:8080/"
        },
        "id": "06yKBZTubO2N",
        "outputId": "88cccc1b-47a8-46f8-aa4a-158057457be9"
      },
      "source": [
        "A = cal()\n",
        "A.result"
      ],
      "execution_count": 32,
      "outputs": [
        {
          "output_type": "execute_result",
          "data": {
            "text/plain": [
              "0"
            ]
          },
          "metadata": {
            "tags": []
          },
          "execution_count": 32
        }
      ]
    },
    {
      "cell_type": "markdown",
      "metadata": {
        "id": "Y8F4s6zWcdbl"
      },
      "source": [
        "- A: class로부터 만들어진 객체\n",
        "- self가 A에 들어가게 된다.\n",
        "- class가 과자틀이라면, 객체는 그 틀로부터 만들어지는 과자 하나하나이다."
      ]
    },
    {
      "cell_type": "code",
      "metadata": {
        "colab": {
          "base_uri": "https://localhost:8080/"
        },
        "id": "VpvNZQNhccuA",
        "outputId": "1dc1c21c-d062-40fb-9b08-981a9df6d409"
      },
      "source": [
        "A.add(4)"
      ],
      "execution_count": 33,
      "outputs": [
        {
          "output_type": "execute_result",
          "data": {
            "text/plain": [
              "4"
            ]
          },
          "metadata": {
            "tags": []
          },
          "execution_count": 33
        }
      ]
    },
    {
      "cell_type": "code",
      "metadata": {
        "colab": {
          "base_uri": "https://localhost:8080/"
        },
        "id": "jIv2pRFYc4kH",
        "outputId": "9c65c354-0070-49fe-af60-2e599b284a63"
      },
      "source": [
        "A.add(6)"
      ],
      "execution_count": 34,
      "outputs": [
        {
          "output_type": "execute_result",
          "data": {
            "text/plain": [
              "10"
            ]
          },
          "metadata": {
            "tags": []
          },
          "execution_count": 34
        }
      ]
    },
    {
      "cell_type": "code",
      "metadata": {
        "colab": {
          "base_uri": "https://localhost:8080/"
        },
        "id": "YH47UJJadLQ9",
        "outputId": "6aa10683-49f9-4d9b-a6dc-5cae4a24568a"
      },
      "source": [
        "B = cal()\n",
        "B.result"
      ],
      "execution_count": 37,
      "outputs": [
        {
          "output_type": "execute_result",
          "data": {
            "text/plain": [
              "0"
            ]
          },
          "metadata": {
            "tags": []
          },
          "execution_count": 37
        }
      ]
    },
    {
      "cell_type": "code",
      "metadata": {
        "id": "z5D6Vt5Kddcf"
      },
      "source": [
        "def func(a, b, x):\n",
        "  y = a*x + b\n",
        "  return y"
      ],
      "execution_count": 38,
      "outputs": []
    },
    {
      "cell_type": "markdown",
      "metadata": {
        "id": "HondLMRvfEjR"
      },
      "source": [
        "- 모듈: 함수나 변수 또는 클래스를 모아 놓은 파일\n",
        "- 패키지: 잘 사용할 수 있는 형태로 묶어놓은 것\n",
        "- 패키지 > 모듈 > class, function"
      ]
    },
    {
      "cell_type": "code",
      "metadata": {
        "colab": {
          "base_uri": "https://localhost:8080/"
        },
        "id": "r3zkQEKKetp0",
        "outputId": "2fcd6c14-a620-49b9-bef6-f998a05f40a2"
      },
      "source": [
        "import numpy as np\n",
        "n = np.random.rand(100)\n",
        "n"
      ],
      "execution_count": 42,
      "outputs": [
        {
          "output_type": "execute_result",
          "data": {
            "text/plain": [
              "array([0.3907143 , 0.09762716, 0.77704218, 0.15082231, 0.65665358,\n",
              "       0.73426932, 0.38900939, 0.48870169, 0.66663028, 0.02828176,\n",
              "       0.00428414, 0.34407409, 0.94314157, 0.47965857, 0.57023989,\n",
              "       0.85678411, 0.4459434 , 0.48174031, 0.78183375, 0.3193696 ,\n",
              "       0.46551492, 0.31549885, 0.16680772, 0.93839134, 0.35112602,\n",
              "       0.32105117, 0.93248148, 0.12925228, 0.60506143, 0.7608238 ,\n",
              "       0.37353354, 0.29027042, 0.72911071, 0.56552612, 0.70724378,\n",
              "       0.77076374, 0.5915547 , 0.44099333, 0.12373209, 0.52494667,\n",
              "       0.4358482 , 0.04092184, 0.86438308, 0.16823088, 0.2690563 ,\n",
              "       0.69491658, 0.51563607, 0.95146103, 0.9122559 , 0.6291804 ,\n",
              "       0.44166217, 0.81477108, 0.13937664, 0.26301636, 0.1494004 ,\n",
              "       0.95666904, 0.2297309 , 0.59142327, 0.54504641, 0.1136802 ,\n",
              "       0.81801334, 0.14244336, 0.3326075 , 0.6106648 , 0.10798837,\n",
              "       0.58233708, 0.66236764, 0.20977731, 0.14811902, 0.27549025,\n",
              "       0.32346796, 0.3628273 , 0.41465174, 0.01720673, 0.21522586,\n",
              "       0.02562637, 0.63130525, 0.31095756, 0.53917455, 0.58820055,\n",
              "       0.29511131, 0.56260932, 0.7335769 , 0.93440516, 0.07163947,\n",
              "       0.14700183, 0.68579846, 0.20946005, 0.07016301, 0.28315184,\n",
              "       0.69830412, 0.23416075, 0.01953728, 0.45346776, 0.45206068,\n",
              "       0.92600859, 0.79354537, 0.28986434, 0.6393242 , 0.25842013])"
            ]
          },
          "metadata": {
            "tags": []
          },
          "execution_count": 42
        }
      ]
    },
    {
      "cell_type": "markdown",
      "metadata": {
        "id": "PxdRI3elgv4g"
      },
      "source": [
        "- randn: 정규 분포를 갖는(normal) 100개의 random 숫자를 만들어 낸다. "
      ]
    },
    {
      "cell_type": "code",
      "metadata": {
        "id": "x_XAeWfjgJvt"
      },
      "source": [
        "import matplotlib\n",
        "import matplotlib.pyplot\n",
        "from matplotlib import pyplot\n",
        "from matplotlib.pyplot import hist"
      ],
      "execution_count": 41,
      "outputs": []
    },
    {
      "cell_type": "markdown",
      "metadata": {
        "id": "xSTTtWmugVg6"
      },
      "source": [
        "- matplotlib이라는 패키지 안에 pyplot이라는 모듈이 있고, 그 안에 class와 function이 있다.\n",
        "- 그 가운데 hist라는 function이 있다."
      ]
    },
    {
      "cell_type": "code",
      "metadata": {
        "colab": {
          "base_uri": "https://localhost:8080/",
          "height": 355
        },
        "id": "3if1ofSDgRCl",
        "outputId": "d87a1f05-8c8b-44db-9dbe-5a126f6a6b49"
      },
      "source": [
        "import matplotlib\n",
        "matplotlib.pyplot.hist(n)"
      ],
      "execution_count": 43,
      "outputs": [
        {
          "output_type": "execute_result",
          "data": {
            "text/plain": [
              "(array([ 9., 12., 11., 12., 11.,  9., 12.,  8.,  7.,  9.]),\n",
              " array([0.00428414, 0.09952263, 0.19476112, 0.28999961, 0.3852381 ,\n",
              "        0.48047659, 0.57571508, 0.67095357, 0.76619206, 0.86143055,\n",
              "        0.95666904]),\n",
              " <a list of 10 Patch objects>)"
            ]
          },
          "metadata": {
            "tags": []
          },
          "execution_count": 43
        },
        {
          "output_type": "display_data",
          "data": {
            "image/png": "[encoded data removed]",
            "text/plain": [
              "<Figure size 432x288 with 1 Axes>"
            ]
          },
          "metadata": {
            "tags": [],
            "needs_background": "light"
          }
        }
      ]
    },
    {
      "cell_type": "code",
      "metadata": {
        "colab": {
          "base_uri": "https://localhost:8080/",
          "height": 355
        },
        "id": "ls9aBajihJyT",
        "outputId": "bf30f254-20c3-441c-cdf3-b91bf0e36dff"
      },
      "source": [
        "import matplotlib.pyplot\n",
        "matplotlib.pyplot.hist(n)"
      ],
      "execution_count": 44,
      "outputs": [
        {
          "output_type": "execute_result",
          "data": {
            "text/plain": [
              "(array([ 9., 12., 11., 12., 11.,  9., 12.,  8.,  7.,  9.]),\n",
              " array([0.00428414, 0.09952263, 0.19476112, 0.28999961, 0.3852381 ,\n",
              "        0.48047659, 0.57571508, 0.67095357, 0.76619206, 0.86143055,\n",
              "        0.95666904]),\n",
              " <a list of 10 Patch objects>)"
            ]
          },
          "metadata": {
            "tags": []
          },
          "execution_count": 44
        },
        {
          "output_type": "display_data",
          "data": {
            "image/png": "[encoded data removed]",
            "text/plain": [
              "<Figure size 432x288 with 1 Axes>"
            ]
          },
          "metadata": {
            "tags": [],
            "needs_background": "light"
          }
        }
      ]
    },
    {
      "cell_type": "code",
      "metadata": {
        "colab": {
          "base_uri": "https://localhost:8080/",
          "height": 355
        },
        "id": "6-AF7FN-hSQQ",
        "outputId": "50f8168d-fb9d-4a6c-bafc-d00b6bc51fd1"
      },
      "source": [
        "from matplotlib import pyplot\n",
        "pyplot.hist(n)"
      ],
      "execution_count": 45,
      "outputs": [
        {
          "output_type": "execute_result",
          "data": {
            "text/plain": [
              "(array([ 9., 12., 11., 12., 11.,  9., 12.,  8.,  7.,  9.]),\n",
              " array([0.00428414, 0.09952263, 0.19476112, 0.28999961, 0.3852381 ,\n",
              "        0.48047659, 0.57571508, 0.67095357, 0.76619206, 0.86143055,\n",
              "        0.95666904]),\n",
              " <a list of 10 Patch objects>)"
            ]
          },
          "metadata": {
            "tags": []
          },
          "execution_count": 45
        },
        {
          "output_type": "display_data",
          "data": {
            "image/png": "[encoded data removed]",
            "text/plain": [
              "<Figure size 432x288 with 1 Axes>"
            ]
          },
          "metadata": {
            "tags": [],
            "needs_background": "light"
          }
        }
      ]
    },
    {
      "cell_type": "code",
      "metadata": {
        "colab": {
          "base_uri": "https://localhost:8080/",
          "height": 355
        },
        "id": "ig21PVKehcwN",
        "outputId": "6aa9c842-8b51-408d-b304-e5035f0feb0f"
      },
      "source": [
        "from matplotlib.pyplot import hist\n",
        "hist(n)"
      ],
      "execution_count": 46,
      "outputs": [
        {
          "output_type": "execute_result",
          "data": {
            "text/plain": [
              "(array([ 9., 12., 11., 12., 11.,  9., 12.,  8.,  7.,  9.]),\n",
              " array([0.00428414, 0.09952263, 0.19476112, 0.28999961, 0.3852381 ,\n",
              "        0.48047659, 0.57571508, 0.67095357, 0.76619206, 0.86143055,\n",
              "        0.95666904]),\n",
              " <a list of 10 Patch objects>)"
            ]
          },
          "metadata": {
            "tags": []
          },
          "execution_count": 46
        },
        {
          "output_type": "display_data",
          "data": {
            "image/png": "[encoded data removed]",
            "text/plain": [
              "<Figure size 432x288 with 1 Axes>"
            ]
          },
          "metadata": {
            "tags": [],
            "needs_background": "light"
          }
        }
      ]
    },
    {
      "cell_type": "code",
      "metadata": {
        "id": "cvLmi6Qght85"
      },
      "source": [
        ""
      ],
      "execution_count": null,
      "outputs": []
    }
  ]
}