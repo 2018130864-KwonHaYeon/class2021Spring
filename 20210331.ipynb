{
  "nbformat": 4,
  "nbformat_minor": 0,
  "metadata": {
    "colab": {
      "name": "20210331.ipynb",
      "provenance": [],
      "authorship_tag": "ABX9TyMw4yv54c9l+uE19tF0ktNb",
      "include_colab_link": true
    },
    "kernelspec": {
      "name": "python3",
      "display_name": "Python 3"
    },
    "language_info": {
      "name": "python"
    }
  },
  "cells": [
    {
      "cell_type": "markdown",
      "metadata": {
        "id": "view-in-github",
        "colab_type": "text"
      },
      "source": [
        "<a href=\"https://colab.research.google.com/github/2018130864-KwonHaYeon/class2021Spring/blob/main/20210331.ipynb\" target=\"_parent\"><img src=\"https://colab.research.google.com/assets/colab-badge.svg\" alt=\"Open In Colab\"/></a>"
      ]
    },
    {
      "cell_type": "markdown",
      "metadata": {
        "id": "lAGGoZ_J3-PR"
      },
      "source": [
        "# a\n",
        "1. pitch: 75 Hz\n",
        "2. intensity: 50 dB\n",
        "3. formant: 1st - 989 Hz, 2nd - 1340 Hz\n",
        "4. duration: 0.570 sec"
      ]
    },
    {
      "cell_type": "markdown",
      "metadata": {
        "id": "FoZlCFsT44yR"
      },
      "source": [
        "# e\n",
        "1. pitch: 157.4 Hz\n",
        "2. intensity: 100 dB\n",
        "3. formant: 1st - 734 Hz, 2nd - 2361 Hz\n",
        "4. duration: 0.628 sec"
      ]
    }
  ]
}