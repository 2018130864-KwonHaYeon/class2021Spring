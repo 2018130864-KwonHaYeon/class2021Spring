{
  "nbformat": 4,
  "nbformat_minor": 0,
  "metadata": {
    "colab": {
      "name": "numpy강의복습.ipynb",
      "provenance": [],
      "authorship_tag": "ABX9TyPdy4kibG2iJEHC/CFrahrF",
      "include_colab_link": true
    },
    "kernelspec": {
      "name": "python3",
      "display_name": "Python 3"
    },
    "language_info": {
      "name": "python"
    }
  },
  "cells": [
    {
      "cell_type": "markdown",
      "metadata": {
        "id": "view-in-github",
        "colab_type": "text"
      },
      "source": [
        "<a href=\"https://colab.research.google.com/github/2018130864-KwonHaYeon/class2021Spring/blob/main/numpy%EA%B0%95%EC%9D%98%EB%B3%B5%EC%8A%B5.ipynb\" target=\"_parent\"><img src=\"https://colab.research.google.com/assets/colab-badge.svg\" alt=\"Open In Colab\"/></a>"
      ]
    },
    {
      "cell_type": "markdown",
      "metadata": {
        "id": "gc28GOuqyqne"
      },
      "source": [
        "# **20210324 강의**"
      ]
    },
    {
      "cell_type": "markdown",
      "metadata": {
        "id": "MIo3wVENb3oU"
      },
      "source": [
        "# NumPy Basics"
      ]
    },
    {
      "cell_type": "markdown",
      "metadata": {
        "id": "clW1bkj5b7Cx"
      },
      "source": [
        "## 1. Creation"
      ]
    },
    {
      "cell_type": "markdown",
      "metadata": {
        "id": "fX-b4-aBgWRE"
      },
      "source": [
        "- Package > serve-package > module (.py) > class, function\n",
        "- numpy라는 대표적인 package"
      ]
    },
    {
      "cell_type": "code",
      "metadata": {
        "id": "TxKXOu7WbzHv"
      },
      "source": [
        "import numpy as np\n",
        "import matplotlib.pyplot as plt"
      ],
      "execution_count": 1,
      "outputs": []
    },
    {
      "cell_type": "code",
      "metadata": {
        "colab": {
          "base_uri": "https://localhost:8080/"
        },
        "id": "w_hA4ui0gs4K",
        "outputId": "1c305f55-2e9f-4b4c-b7da-b2a7e62af4fa"
      },
      "source": [
        "np.empty([2,3], dtype = 'int')"
      ],
      "execution_count": 2,
      "outputs": [
        {
          "output_type": "execute_result",
          "data": {
            "text/plain": [
              "array([[94674516631328,              0,              0],\n",
              "       [             0,              0,              0]])"
            ]
          },
          "metadata": {
            "tags": []
          },
          "execution_count": 2
        }
      ]
    },
    {
      "cell_type": "code",
      "metadata": {
        "colab": {
          "base_uri": "https://localhost:8080/"
        },
        "id": "8NFyB-rLjPBq",
        "outputId": "8eec038f-afee-434b-f272-7e63d4929dd9"
      },
      "source": [
        "np.zeros([2,3])"
      ],
      "execution_count": 4,
      "outputs": [
        {
          "output_type": "execute_result",
          "data": {
            "text/plain": [
              "array([[0., 0., 0.],\n",
              "       [0., 0., 0.]])"
            ]
          },
          "metadata": {
            "tags": []
          },
          "execution_count": 4
        }
      ]
    },
    {
      "cell_type": "markdown",
      "metadata": {
        "id": "P6cfvA3Yh0s2"
      },
      "source": [
        "- 직사각형의 숫자 배열 (행,열) 2*3 (행렬)"
      ]
    },
    {
      "cell_type": "code",
      "metadata": {
        "colab": {
          "base_uri": "https://localhost:8080/"
        },
        "id": "mauH2ZxRgv74",
        "outputId": "258b3511-5898-44a8-91b5-9e7cb9411bce"
      },
      "source": [
        "np.arange(0,10,2, dtype = 'float64')"
      ],
      "execution_count": 3,
      "outputs": [
        {
          "output_type": "execute_result",
          "data": {
            "text/plain": [
              "array([0., 2., 4., 6., 8.])"
            ]
          },
          "metadata": {
            "tags": []
          },
          "execution_count": 3
        }
      ]
    },
    {
      "cell_type": "markdown",
      "metadata": {
        "id": "LmaSHn8Riboc"
      },
      "source": [
        "- 0에서 10 직전까지 2만큼의 간격을 가져라."
      ]
    },
    {
      "cell_type": "code",
      "metadata": {
        "colab": {
          "base_uri": "https://localhost:8080/"
        },
        "id": "Qx1krq3Viay6",
        "outputId": "f7b96986-295d-426a-a82d-0f9b9f898de7"
      },
      "source": [
        "np.linspace(0,10,6, dtype=float)"
      ],
      "execution_count": 5,
      "outputs": [
        {
          "output_type": "execute_result",
          "data": {
            "text/plain": [
              "array([ 0.,  2.,  4.,  6.,  8., 10.])"
            ]
          },
          "metadata": {
            "tags": []
          },
          "execution_count": 5
        }
      ]
    },
    {
      "cell_type": "markdown",
      "metadata": {
        "id": "I1FD6zZmjvFQ"
      },
      "source": [
        "**- linspace 완전 중요함**\n",
        "- linear space (10까지 포함)\n",
        "- 0~10 까지 등간격으로 총 6개를 만들어라.\n",
        "- 숫자열: vector [1x3] , [3x1]같은 것들\n",
        "- vector는 행렬 가운데 길쭉하게 생긴 것들을 의미함\n",
        "- [1x3] row vector, [3x1] column vector"
      ]
    },
    {
      "cell_type": "code",
      "metadata": {
        "colab": {
          "base_uri": "https://localhost:8080/"
        },
        "id": "-OOXlO49jx6A",
        "outputId": "102af293-40f0-4979-96a9-3da680b5a6ec"
      },
      "source": [
        "X = np.array([[1,2,3],[4,5,6]])\n",
        "X"
      ],
      "execution_count": 8,
      "outputs": [
        {
          "output_type": "execute_result",
          "data": {
            "text/plain": [
              "array([[1, 2, 3],\n",
              "       [4, 5, 6]])"
            ]
          },
          "metadata": {
            "tags": []
          },
          "execution_count": 8
        }
      ]
    },
    {
      "cell_type": "markdown",
      "metadata": {
        "id": "FBFDCj5Dk06T"
      },
      "source": [
        "- arange & linspace: vector를 만드는 함수\n",
        "- array: 행렬을 만드는 함수\n",
        "- 위 array 함수는 2 x 3 행렬을 만든다.\n",
        "- 3 x 2 행렬을 만드는 법\n",
        "- 먼저 3에 해당하는 , 를 찍는다. 그 다음 2에 해당하는 , 를 찍는다.\n",
        "- [[,] , [,] ,[,]] \n",
        "- X = class"
      ]
    },
    {
      "cell_type": "code",
      "metadata": {
        "colab": {
          "base_uri": "https://localhost:8080/"
        },
        "id": "2XRSn9HZjtje",
        "outputId": "56562ecf-6071-4e00-97ce-7f9c2c308ae4"
      },
      "source": [
        "X.astype(np.float64)"
      ],
      "execution_count": 9,
      "outputs": [
        {
          "output_type": "execute_result",
          "data": {
            "text/plain": [
              "array([[1., 2., 3.],\n",
              "       [4., 5., 6.]])"
            ]
          },
          "metadata": {
            "tags": []
          },
          "execution_count": 9
        }
      ]
    },
    {
      "cell_type": "code",
      "metadata": {
        "colab": {
          "base_uri": "https://localhost:8080/"
        },
        "id": "cC2Q4h0Ilr4X",
        "outputId": "cff6ed4f-f863-4f34-990b-3645788f07f1"
      },
      "source": [
        "np.zeros_like(X)"
      ],
      "execution_count": 10,
      "outputs": [
        {
          "output_type": "execute_result",
          "data": {
            "text/plain": [
              "array([[0, 0, 0],\n",
              "       [0, 0, 0]])"
            ]
          },
          "metadata": {
            "tags": []
          },
          "execution_count": 10
        }
      ]
    },
    {
      "cell_type": "markdown",
      "metadata": {
        "id": "S11-yii0lw6d"
      },
      "source": [
        "- X의 모든 요소를 0으로 대체하라."
      ]
    },
    {
      "cell_type": "code",
      "metadata": {
        "colab": {
          "base_uri": "https://localhost:8080/",
          "height": 265
        },
        "id": "lNP2YJTglwHu",
        "outputId": "f26cb412-8327-4f6c-c8f8-7e96a24b574f"
      },
      "source": [
        "data = np.random.normal(0,1,100)\n",
        "# print(data)\n",
        "plt.hist(data, bins=10)\n",
        "plt.show()"
      ],
      "execution_count": 18,
      "outputs": [
        {
          "output_type": "display_data",
          "data": {
            "image/png": "[encoded data removed]",
            "text/plain": [
              "<Figure size 432x288 with 1 Axes>"
            ]
          },
          "metadata": {
            "tags": [],
            "needs_background": "light"
          }
        }
      ]
    },
    {
      "cell_type": "markdown",
      "metadata": {
        "id": "K0vT7843mI79"
      },
      "source": [
        "- random이라는 module 안에 normal 함수\n",
        "- 0의 위치에서 1이라는 standard deviation으로 100개의 숫자를 만들어라. (normal distribution의 형태) --> 행렬의 형태가 아니라 벡터로 만들어진다.\n",
        "- hist = histogram\n",
        "- bins가 너무 많으면 fine grained 되고, 너무 적으면 너무 뭉탱이로 나옴\n",
        "- 숫자가 많아지면 많을수록 smooth한 정규분포 곡선에 가까워진다.\n"
      ]
    },
    {
      "cell_type": "markdown",
      "metadata": {
        "id": "fLlAWqG6qj3C"
      },
      "source": [
        "## 2. Manipulation"
      ]
    },
    {
      "cell_type": "code",
      "metadata": {
        "id": "7P5TICYJmIIS"
      },
      "source": [
        "X = np.ones([2,3,4])"
      ],
      "execution_count": 19,
      "outputs": []
    },
    {
      "cell_type": "markdown",
      "metadata": {
        "id": "O4291F2mqpI8"
      },
      "source": [
        "- tensor 3차원의 행렬 (1차원: vector)\n",
        "- 3차원의 tensor를 1로 채워서 만들라.\n",
        "- [ [[, , ,], , ], [, ,]] --> 표현 방법"
      ]
    },
    {
      "cell_type": "code",
      "metadata": {
        "colab": {
          "base_uri": "https://localhost:8080/"
        },
        "id": "aRk4wkr5qmzs",
        "outputId": "c4ab1700-0cd8-427f-c909-b4f2d050d5e6"
      },
      "source": [
        "Y = X.reshape(-1,3,2)\n",
        "Y"
      ],
      "execution_count": 20,
      "outputs": [
        {
          "output_type": "execute_result",
          "data": {
            "text/plain": [
              "array([[[1., 1.],\n",
              "        [1., 1.],\n",
              "        [1., 1.]],\n",
              "\n",
              "       [[1., 1.],\n",
              "        [1., 1.],\n",
              "        [1., 1.]],\n",
              "\n",
              "       [[1., 1.],\n",
              "        [1., 1.],\n",
              "        [1., 1.]],\n",
              "\n",
              "       [[1., 1.],\n",
              "        [1., 1.],\n",
              "        [1., 1.]]])"
            ]
          },
          "metadata": {
            "tags": []
          },
          "execution_count": 20
        }
      ]
    },
    {
      "cell_type": "markdown",
      "metadata": {
        "id": "Ccz49o41rRZA"
      },
      "source": [
        "- -1은 기본적으로 reshape할 때 남은 숫자만큼을 채워준다."
      ]
    },
    {
      "cell_type": "code",
      "metadata": {
        "colab": {
          "base_uri": "https://localhost:8080/"
        },
        "id": "moodpbf4rOaj",
        "outputId": "aa859619-6caf-491a-a8c3-40cf2d0ea9b7"
      },
      "source": [
        "np.allclose(X.reshape(-1,3,2),Y)"
      ],
      "execution_count": 21,
      "outputs": [
        {
          "output_type": "execute_result",
          "data": {
            "text/plain": [
              "True"
            ]
          },
          "metadata": {
            "tags": []
          },
          "execution_count": 21
        }
      ]
    },
    {
      "cell_type": "markdown",
      "metadata": {
        "id": "AMsfkx0Dr27E"
      },
      "source": [
        "- X랑 Y랑 same한지"
      ]
    },
    {
      "cell_type": "markdown",
      "metadata": {
        "id": "MZjdtUGrr6S1"
      },
      "source": [
        "## 4. Inspecting"
      ]
    },
    {
      "cell_type": "code",
      "metadata": {
        "colab": {
          "base_uri": "https://localhost:8080/"
        },
        "id": "A2voyjX8r1R5",
        "outputId": "8717f4c7-3550-4323-b5d6-88ba454429b5"
      },
      "source": [
        "arr = np.random.random([5,2,3])\n",
        "arr"
      ],
      "execution_count": 24,
      "outputs": [
        {
          "output_type": "execute_result",
          "data": {
            "text/plain": [
              "array([[[0.58939232, 0.10364636, 0.42213506],\n",
              "        [0.0114258 , 0.07731692, 0.09612631]],\n",
              "\n",
              "       [[0.79146896, 0.50714391, 0.83301503],\n",
              "        [0.24670298, 0.45299816, 0.58853492]],\n",
              "\n",
              "       [[0.53648299, 0.85186959, 0.70377523],\n",
              "        [0.2629292 , 0.93480853, 0.07342338]],\n",
              "\n",
              "       [[0.6637938 , 0.92373759, 0.00642666],\n",
              "        [0.91294187, 0.1907869 , 0.53636935]],\n",
              "\n",
              "       [[0.31398589, 0.94938195, 0.58354481],\n",
              "        [0.28643403, 0.51750171, 0.93866506]]])"
            ]
          },
          "metadata": {
            "tags": []
          },
          "execution_count": 24
        }
      ]
    },
    {
      "cell_type": "markdown",
      "metadata": {
        "id": "9x0Jr02WsJU4"
      },
      "source": [
        "- 0에서 1사이의 random 숫자를 추출한다."
      ]
    },
    {
      "cell_type": "code",
      "metadata": {
        "colab": {
          "base_uri": "https://localhost:8080/"
        },
        "id": "yWaMF2Rdr_TT",
        "outputId": "654e6167-c7c7-4090-a7f0-019ef74e6e95"
      },
      "source": [
        "print(type(arr))\n",
        "print(len(arr))\n",
        "print(arr.shape)\n",
        "print(arr.ndim)\n",
        "print(arr.size)\n",
        "print(arr.dtype)"
      ],
      "execution_count": 23,
      "outputs": [
        {
          "output_type": "stream",
          "text": [
            "<class 'numpy.ndarray'>\n",
            "5\n",
            "(5, 2, 3)\n",
            "3\n",
            "30\n",
            "float64\n"
          ],
          "name": "stdout"
        }
      ]
    },
    {
      "cell_type": "markdown",
      "metadata": {
        "id": "Vm5kaJpms8tw"
      },
      "source": [
        "## 5. Operations\n",
        "### 5.1. Arithmetic"
      ]
    },
    {
      "cell_type": "code",
      "metadata": {
        "colab": {
          "base_uri": "https://localhost:8080/"
        },
        "id": "hGmB5gPPsQW5",
        "outputId": "e12bdc30-9df3-4a82-a45b-cde47b110fd5"
      },
      "source": [
        "a = np.arange(1,5,1)\n",
        "b = np.arange(9,5,-1)\n",
        "print(a)\n",
        "print(b)"
      ],
      "execution_count": 28,
      "outputs": [
        {
          "output_type": "stream",
          "text": [
            "[1 2 3 4]\n",
            "[9 8 7 6]\n"
          ],
          "name": "stdout"
        }
      ]
    },
    {
      "cell_type": "code",
      "metadata": {
        "colab": {
          "base_uri": "https://localhost:8080/"
        },
        "id": "sJwiFqZJtEgv",
        "outputId": "bfc0c149-755d-4339-aa9d-c1e83acb5eae"
      },
      "source": [
        "print(a-b)\n",
        "print(a*b)"
      ],
      "execution_count": 29,
      "outputs": [
        {
          "output_type": "stream",
          "text": [
            "[-8 -6 -4 -2]\n",
            "[ 9 16 21 24]\n"
          ],
          "name": "stdout"
        }
      ]
    },
    {
      "cell_type": "markdown",
      "metadata": {
        "id": "xYO_R73uv2mc"
      },
      "source": [
        "- 행렬의 곱하기는 2x3 / 3x2 = 2x2 (안쪽 숫자가 같아야 하고 바깥쪽 숫자가 결과값으로 나온다)\n",
        "- element끼리 곱해지는 것은 행렬의 형태를 띄고 있지만, 진짜 행렬은 아니기 때문에 element 끼리 곱해진다.\n",
        "- 진짜 행렬이 되기 위해서는 차원을 맞춰야 한다."
      ]
    },
    {
      "cell_type": "code",
      "metadata": {
        "id": "cWygGWxltOpu"
      },
      "source": [
        "a = np.matrix(a)\n",
        "b = np.matrix(b)"
      ],
      "execution_count": 30,
      "outputs": []
    },
    {
      "cell_type": "code",
      "metadata": {
        "colab": {
          "base_uri": "https://localhost:8080/"
        },
        "id": "AtfGFIsmwQer",
        "outputId": "4e81bde1-79a1-41b3-db90-71d1de97f3dd"
      },
      "source": [
        "a * b.T"
      ],
      "execution_count": 32,
      "outputs": [
        {
          "output_type": "execute_result",
          "data": {
            "text/plain": [
              "matrix([[70]])"
            ]
          },
          "metadata": {
            "tags": []
          },
          "execution_count": 32
        }
      ]
    },
    {
      "cell_type": "markdown",
      "metadata": {
        "id": "RtpkeBRxwYTw"
      },
      "source": [
        "- T = transpose (행렬의 행과 열을 바꾸는 것)\n",
        "- 1x4에서 4x1이 된다.\n",
        "- 따라서 결과값으로는 1x1이 나온다.\n",
        "- 1X9, 2X8, 3X7, 4X6의 합이 나옴"
      ]
    },
    {
      "cell_type": "code",
      "metadata": {
        "colab": {
          "base_uri": "https://localhost:8080/"
        },
        "id": "3E-acTG-wbT3",
        "outputId": "0b803b8e-78b2-4611-bc28-4003101d9a84"
      },
      "source": [
        "a.T * b"
      ],
      "execution_count": 34,
      "outputs": [
        {
          "output_type": "execute_result",
          "data": {
            "text/plain": [
              "matrix([[ 9,  8,  7,  6],\n",
              "        [18, 16, 14, 12],\n",
              "        [27, 24, 21, 18],\n",
              "        [36, 32, 28, 24]])"
            ]
          },
          "metadata": {
            "tags": []
          },
          "execution_count": 34
        }
      ]
    },
    {
      "cell_type": "markdown",
      "metadata": {
        "id": "Ol-xUIIpw2WW"
      },
      "source": [
        "- 4x4 matrix가 만들어진다."
      ]
    },
    {
      "cell_type": "markdown",
      "metadata": {
        "id": "sSkdfWZ2xAqA"
      },
      "source": [
        "### 5.2. Comparison"
      ]
    },
    {
      "cell_type": "code",
      "metadata": {
        "id": "RehDxoQZw0H9"
      },
      "source": [
        "a = np.arange(1,10).reshape(3,3)\n",
        "b = np.arange(9,0,-1).reshape(3,3)"
      ],
      "execution_count": 35,
      "outputs": []
    },
    {
      "cell_type": "code",
      "metadata": {
        "colab": {
          "base_uri": "https://localhost:8080/"
        },
        "id": "qV_YMSyDxKEz",
        "outputId": "fa287d11-0b67-496a-8510-d4e51d6a4051"
      },
      "source": [
        "print(a)\n",
        "print(b)"
      ],
      "execution_count": 36,
      "outputs": [
        {
          "output_type": "stream",
          "text": [
            "[[1 2 3]\n",
            " [4 5 6]\n",
            " [7 8 9]]\n",
            "[[9 8 7]\n",
            " [6 5 4]\n",
            " [3 2 1]]\n"
          ],
          "name": "stdout"
        }
      ]
    },
    {
      "cell_type": "code",
      "metadata": {
        "colab": {
          "base_uri": "https://localhost:8080/"
        },
        "id": "zdcwvv3kxLMr",
        "outputId": "4f70ca52-c982-4e4e-aff9-0a38e324cdbf"
      },
      "source": [
        "a == b"
      ],
      "execution_count": 37,
      "outputs": [
        {
          "output_type": "execute_result",
          "data": {
            "text/plain": [
              "array([[False, False, False],\n",
              "       [False,  True, False],\n",
              "       [False, False, False]])"
            ]
          },
          "metadata": {
            "tags": []
          },
          "execution_count": 37
        }
      ]
    },
    {
      "cell_type": "code",
      "metadata": {
        "colab": {
          "base_uri": "https://localhost:8080/"
        },
        "id": "_fG1EHkQxQ2f",
        "outputId": "e4fd6651-5868-4d64-b371-d19be9f5f91f"
      },
      "source": [
        "a > b"
      ],
      "execution_count": 38,
      "outputs": [
        {
          "output_type": "execute_result",
          "data": {
            "text/plain": [
              "array([[False, False, False],\n",
              "       [False, False,  True],\n",
              "       [ True,  True,  True]])"
            ]
          },
          "metadata": {
            "tags": []
          },
          "execution_count": 38
        }
      ]
    },
    {
      "cell_type": "markdown",
      "metadata": {
        "id": "94thxAvuxWeh"
      },
      "source": [
        "### 5.3. Aggregate (sum, min, max, mean, median, std)"
      ]
    },
    {
      "cell_type": "code",
      "metadata": {
        "colab": {
          "base_uri": "https://localhost:8080/"
        },
        "id": "kLZgw5Fdxnw0",
        "outputId": "2c18b56c-db62-4f18-e695-a7e5d25506bb"
      },
      "source": [
        "a.sum(), np.sum(a)"
      ],
      "execution_count": 40,
      "outputs": [
        {
          "output_type": "execute_result",
          "data": {
            "text/plain": [
              "(45, 45)"
            ]
          },
          "metadata": {
            "tags": []
          },
          "execution_count": 40
        }
      ]
    },
    {
      "cell_type": "markdown",
      "metadata": {
        "id": "DeqIzGAKxtit"
      },
      "source": [
        "- 두 개가 같은 값이 도출된다."
      ]
    },
    {
      "cell_type": "code",
      "metadata": {
        "colab": {
          "base_uri": "https://localhost:8080/"
        },
        "id": "MBUjnvAyxs0d",
        "outputId": "aed7229f-8783-4154-adc6-8a5f5031dd1a"
      },
      "source": [
        "a.sum(axis=0), np.sum(a, axis=0)"
      ],
      "execution_count": 41,
      "outputs": [
        {
          "output_type": "execute_result",
          "data": {
            "text/plain": [
              "(array([12, 15, 18]), array([12, 15, 18]))"
            ]
          },
          "metadata": {
            "tags": []
          },
          "execution_count": 41
        }
      ]
    },
    {
      "cell_type": "code",
      "metadata": {
        "colab": {
          "base_uri": "https://localhost:8080/"
        },
        "id": "Xu8drF3Ax2Si",
        "outputId": "66bbc7e6-eda0-447b-cea8-61160c91bb94"
      },
      "source": [
        "a.sum(axis=1), np.sum(a, axis=1)"
      ],
      "execution_count": 42,
      "outputs": [
        {
          "output_type": "execute_result",
          "data": {
            "text/plain": [
              "(array([ 6, 15, 24]), array([ 6, 15, 24]))"
            ]
          },
          "metadata": {
            "tags": []
          },
          "execution_count": 42
        }
      ]
    },
    {
      "cell_type": "markdown",
      "metadata": {
        "id": "eOjsVnSDx8m7"
      },
      "source": [
        "- sum을 하되, 한 축으로 해라 (axis = 0 세로, axis = 1 가로)"
      ]
    },
    {
      "cell_type": "markdown",
      "metadata": {
        "id": "xgK7p0fPxSmc"
      },
      "source": [
        "## BroadCasting"
      ]
    },
    {
      "cell_type": "code",
      "metadata": {
        "colab": {
          "base_uri": "https://localhost:8080/"
        },
        "id": "9O3CKLoWxRPq",
        "outputId": "ca143081-00af-487d-875f-7adb852dd548"
      },
      "source": [
        "a = np.arange(1, 25).reshape(4, 6)\n",
        "a"
      ],
      "execution_count": 43,
      "outputs": [
        {
          "output_type": "execute_result",
          "data": {
            "text/plain": [
              "array([[ 1,  2,  3,  4,  5,  6],\n",
              "       [ 7,  8,  9, 10, 11, 12],\n",
              "       [13, 14, 15, 16, 17, 18],\n",
              "       [19, 20, 21, 22, 23, 24]])"
            ]
          },
          "metadata": {
            "tags": []
          },
          "execution_count": 43
        }
      ]
    }
  ]
}