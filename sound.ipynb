{
  "nbformat": 4,
  "nbformat_minor": 0,
  "metadata": {
    "colab": {
      "name": "sound.ipynb",
      "provenance": [],
      "collapsed_sections": [],
      "authorship_tag": "ABX9TyNfz9RpZKjMVsCx4CN/opta",
      "include_colab_link": true
    },
    "kernelspec": {
      "name": "python3",
      "display_name": "Python 3"
    },
    "language_info": {
      "name": "python"
    }
  },
  "cells": [
    {
      "cell_type": "markdown",
      "metadata": {
        "id": "view-in-github",
        "colab_type": "text"
      },
      "source": [
        "<a href=\"https://colab.research.google.com/github/2018130864-KwonHaYeon/class2021Spring/blob/main/sound.ipynb\" target=\"_parent\"><img src=\"https://colab.research.google.com/assets/colab-badge.svg\" alt=\"Open In Colab\"/></a>"
      ]
    },
    {
      "cell_type": "code",
      "metadata": {
        "id": "JpVwahCpl6Lp"
      },
      "source": [
        "%matplotlib inline\n",
        "from matplotlib import pyplot as plt\n",
        "import IPython.display as ipd\n",
        "import numpy as np\n",
        "from scipy.signal import lfilter"
      ],
      "execution_count": 2,
      "outputs": []
    },
    {
      "cell_type": "markdown",
      "metadata": {
        "id": "FEUd1IpQnS9q"
      },
      "source": [
        "- 필요한 package들"
      ]
    },
    {
      "cell_type": "markdown",
      "metadata": {
        "id": "bqq6d36jlYNg"
      },
      "source": [
        "# **Phasor**\n",
        "- 다양한 종류의 sine wave를 만드는 것"
      ]
    },
    {
      "cell_type": "code",
      "metadata": {
        "id": "p2VQu_ZRnSgC"
      },
      "source": [
        "# parameter setting\n",
        "amp = 1          # range [0.0, 1.0]\n",
        "sr = 10000       # sampling rate, Hz\n",
        "dur = 0.5        # in seconds\n",
        "freq = 100.0     # sine frequency, Hz"
      ],
      "execution_count": 3,
      "outputs": []
    },
    {
      "cell_type": "markdown",
      "metadata": {
        "id": "sWHTjbpnnhu5"
      },
      "source": [
        "- amplitude: wave의 진폭\n",
        "- amplitude = 1 이면, sine wave의 높이가 -1~1의 range를 가진다.\n",
        "- sr = sampling rate\n",
        "- sr = 10000 이면, sine wave를 구성하는 점들이 1초에 10000개의 sample로 이루어져 있다.\n",
        "- duration = 0.5초의 길이\n",
        "- frequency = 1초에 반복되는 unit이 몇개 있는가? (1초에 굴곡이 4번 있다면, 4 Hz)\n",
        "- frequency는 소리의 높낮이와 관련이 있다.\n",
        "- sampling rate과 frequency는 1초당 몇 개가 있는지를 세기 때문에 Hz라는 단위를 쓸 수 있다."
      ]
    },
    {
      "cell_type": "code",
      "metadata": {
        "id": "7tmQyJ-XnV0_"
      },
      "source": [
        "# generate time\n",
        "t = np.arange(1, sr * dur+1)/sr"
      ],
      "execution_count": 4,
      "outputs": []
    },
    {
      "cell_type": "markdown",
      "metadata": {
        "id": "JbJzmJropK5j"
      },
      "source": [
        "- 시간의 개념을 만들어야 한다. (sine 함수에 시간 개념이 존재하지 않기 때문에)\n",
        "- 반드시 phase(각도값)와 time을 sync시켜줘야 한다.\n",
        "- 시간 값을 만들고, 각도 값을 얹어준다.\n",
        "- sampling rate = 시간을 얼마나 잘게 쪼갤 것인가? (1초를 10000개로 쪼갠다)\n",
        "- np.arange(1, sr*dur+1)\n",
        "- [1,2,3,4,5, .... 5000]/sr\n",
        "\n",
        "--> [1/10000, 2/10000, 3/10000, ...5000/10000]\n",
        "\n",
        "--> \"초\"의 개념이 된다.\n",
        "\n",
        "--> np.arange(1, 10000*1+1)로 가정 --> np.arange(1,10001)\n",
        "\n",
        "--> 1~10000까지의 숫자를 만들어 낸다.\n",
        "\n",
        "--> 만약 duration이 0.5라면, 1~5000까지의 숫자를 만들어낸다."
      ]
    },
    {
      "cell_type": "code",
      "metadata": {
        "id": "ozrhNy1GpJ72"
      },
      "source": [
        "# generate phase\n",
        "theta = t * 2*np.pi * freq   "
      ],
      "execution_count": 5,
      "outputs": []
    },
    {
      "cell_type": "markdown",
      "metadata": {
        "id": "do6yNAGQsgku"
      },
      "source": [
        "- 시간을 만들고, 각도의 개념으로 바꾼다. (radian 형태의 phase)\n",
        "- 1초 * 2π: 제일 끝의 값이 2π가 되고, 나머지 값들은 그에 맞춰짐 (0부터 2π radian까지, 한 바퀴 짜리)\n",
        "- 100개짜리를 만들어야 하므로 (원하는 frequency = 100이므로) 제일 끝에 있는 것에 100을 곱하여 맨 끝이 2π 가 아니라 200 π가 되어야 한다."
      ]
    },
    {
      "cell_type": "code",
      "metadata": {
        "id": "Bn5emSmmpPwy"
      },
      "source": [
        "# generate signal by cosine-phasor\n",
        "s = np.sin(theta)"
      ],
      "execution_count": 6,
      "outputs": []
    },
    {
      "cell_type": "markdown",
      "metadata": {
        "id": "_iIqEk4VpRB4"
      },
      "source": [
        "- sine wave를 만들기 위한 함수\n",
        "- sin(): 괄호 안에 각도가 radian의 형태로 변형되어 들어간다. (180도, 360도가 아니라 radian 으로 변환)"
      ]
    },
    {
      "cell_type": "code",
      "metadata": {
        "colab": {
          "base_uri": "https://localhost:8080/",
          "height": 297
        },
        "id": "rG-oGIkEuot8",
        "outputId": "7c95669b-f53c-4a59-d6f0-105c1056f2f1"
      },
      "source": [
        "fig = plt.figure()\n",
        "ax = fig.add_subplot(111)\n",
        "ax.plot(t[0:1000], s[0:1000], '.')\n",
        "ax.set_xlabel('time (s)')\n",
        "ax.set_ylabel('real')"
      ],
      "execution_count": 7,
      "outputs": [
        {
          "output_type": "execute_result",
          "data": {
            "text/plain": [
              "Text(0, 0.5, 'real')"
            ]
          },
          "metadata": {
            "tags": []
          },
          "execution_count": 7
        },
        {
          "output_type": "display_data",
          "data": {
            "image/png": "[encoded data removed]",
            "text/plain": [
              "<Figure size 432x288 with 1 Axes>"
            ]
          },
          "metadata": {
            "tags": [],
            "needs_background": "light"
          }
        }
      ]
    },
    {
      "cell_type": "markdown",
      "metadata": {
        "id": "MglGMT3xv4Ey"
      },
      "source": [
        "- plot(x,y)\n",
        "\n",
        "x = [1,2,3]\n",
        "\n",
        "y = [-1,0,1]\n",
        "\n",
        "- x가 1일 때 y는 -1에 점을 찍고, 2일때 0, 3일때 1에 찍는다.\n",
        "\n",
        "- x축은 phase, 각도 값이 아니라 시간\n",
        "- t의 현재 sample 개수는 5000개"
      ]
    },
    {
      "cell_type": "code",
      "metadata": {
        "colab": {
          "base_uri": "https://localhost:8080/",
          "height": 178
        },
        "id": "V-Vx6wiOu7ka",
        "outputId": "f2dd85a2-7190-4c66-cebc-2ef0822e3c3f"
      },
      "source": [
        "fig = plt.figure()\n",
        "ax = fig.add_subplot(221)\n",
        "ax.plot(t[0:1000], s[0:1000], '.')\n",
        "ax.set_xlabel('time (s)')\n",
        "ax.set_ylabel('real')"
      ],
      "execution_count": 8,
      "outputs": [
        {
          "output_type": "execute_result",
          "data": {
            "text/plain": [
              "Text(0, 0.5, 'real')"
            ]
          },
          "metadata": {
            "tags": []
          },
          "execution_count": 8
        },
        {
          "output_type": "display_data",
          "data": {
            "image/png": "[encoded data removed]",
            "text/plain": [
              "<Figure size 432x288 with 1 Axes>"
            ]
          },
          "metadata": {
            "tags": [],
            "needs_background": "light"
          }
        }
      ]
    },
    {
      "cell_type": "markdown",
      "metadata": {
        "id": "dTpodpimu_HG"
      },
      "source": [
        "- subplot(235라면): 첫번째와 두번째는 2x3 의 행렬 (세로 2, 가로 3), 세번째는 그 행렬 가운데 5번째를 선택"
      ]
    },
    {
      "cell_type": "code",
      "metadata": {
        "colab": {
          "base_uri": "https://localhost:8080/",
          "height": 74
        },
        "id": "YeOG1yYuw5gr",
        "outputId": "9cd83acc-a5e5-467a-8b99-c260a99fc7bd"
      },
      "source": [
        "ipd.Audio(s, rate=sr)"
      ],
      "execution_count": 9,
      "outputs": [
        {
          "output_type": "execute_result",
          "data": {
            "text/html": [
              "\n",
              "                <audio controls=\"controls\" >\n",
              "                    <source src=\"data:audio/wav;base64,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\" type=\"audio/wav\" />\n",
              "                    Your browser does not support the audio element.\n",
              "                </audio>\n",
              "              "
            ],
            "text/plain": [
              "<IPython.lib.display.Audio object>"
            ]
          },
          "metadata": {
            "tags": []
          },
          "execution_count": 9
        }
      ]
    },
    {
      "cell_type": "code",
      "metadata": {
        "id": "r12IKXEtxfsQ"
      },
      "source": [
        ""
      ],
      "execution_count": null,
      "outputs": []
    }
  ]
}